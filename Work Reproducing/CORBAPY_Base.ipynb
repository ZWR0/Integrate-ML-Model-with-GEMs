{
 "cells": [
  {
   "cell_type": "code",
   "execution_count": 2,
   "metadata": {},
   "outputs": [],
   "source": [
    "import cobra\n",
    "from cobra.io import load_model"
   ]
  },
  {
   "cell_type": "markdown",
   "metadata": {},
   "source": [
    "### 模型加载"
   ]
  },
  {
   "cell_type": "code",
   "execution_count": 3,
   "metadata": {},
   "outputs": [],
   "source": [
    "model = load_model('e_coli_core')"
   ]
  },
  {
   "cell_type": "code",
   "execution_count": 4,
   "metadata": {},
   "outputs": [
    {
     "data": {
      "text/plain": [
       "[<Reaction EX_ac_e at 0x7fd4e5fee2f0>,\n",
       " <Reaction EX_acald_e at 0x7fd4e5fc77c0>,\n",
       " <Reaction EX_akg_e at 0x7fd4e5fc7910>,\n",
       " <Reaction EX_co2_e at 0x7fd4e5fee8f0>,\n",
       " <Reaction EX_etoh_e at 0x7fd4e5fee920>,\n",
       " <Reaction EX_for_e at 0x7fd4e5feea10>,\n",
       " <Reaction EX_fru_e at 0x7fd4e5feeb30>,\n",
       " <Reaction EX_fum_e at 0x7fd4e5feec50>,\n",
       " <Reaction EX_glc__D_e at 0x7fd4e5feed70>,\n",
       " <Reaction EX_gln__L_e at 0x7fd4e5feee90>,\n",
       " <Reaction EX_glu__L_e at 0x7fd4e5feefb0>,\n",
       " <Reaction EX_h_e at 0x7fd4e5fef0d0>,\n",
       " <Reaction EX_h2o_e at 0x7fd4e5fef1f0>,\n",
       " <Reaction EX_lac__D_e at 0x7fd4e5fef310>,\n",
       " <Reaction EX_mal__L_e at 0x7fd4e5fef430>,\n",
       " <Reaction EX_nh4_e at 0x7fd4e5fef550>,\n",
       " <Reaction EX_o2_e at 0x7fd4e5fef670>,\n",
       " <Reaction EX_pi_e at 0x7fd4e5fef790>,\n",
       " <Reaction EX_pyr_e at 0x7fd4e5fef8b0>,\n",
       " <Reaction EX_succ_e at 0x7fd4e5fef9d0>]"
      ]
     },
     "execution_count": 4,
     "metadata": {},
     "output_type": "execute_result"
    }
   ],
   "source": [
    "# 模拟胞外条件，培养皿环境\n",
    "model.boundary"
   ]
  },
  {
   "cell_type": "code",
   "execution_count": 5,
   "metadata": {},
   "outputs": [
    {
     "data": {
      "text/plain": [
       "{<Reaction ACALD at 0x7fd4e5f6eb00>,\n",
       " <Reaction ACALDt at 0x7fd4e5f9c5e0>,\n",
       " <Reaction ACKr at 0x7fd4e5f9cdc0>,\n",
       " <Reaction ACONTa at 0x7fd4e5f9d510>,\n",
       " <Reaction ACONTb at 0x7fd4e5f9d330>,\n",
       " <Reaction ACt2r at 0x7fd4e5f6fbb0>,\n",
       " <Reaction ADK1 at 0x7fd4e5f6e2c0>,\n",
       " <Reaction AKGDH at 0x7fd4e5f9f040>,\n",
       " <Reaction AKGt2r at 0x7fd4e5f6f460>,\n",
       " <Reaction ALCD2x at 0x7fd4e5f9c3d0>,\n",
       " <Reaction ATPM at 0x7fd4e5f9dc00>,\n",
       " <Reaction ATPS4r at 0x7fd4e5f9f1f0>,\n",
       " <Reaction BIOMASS_Ecoli_core_w_GAM at 0x7fd4e5f9e950>,\n",
       " <Reaction CO2t at 0x7fd4e5f9ff40>,\n",
       " <Reaction CS at 0x7fd4e5fc62f0>,\n",
       " <Reaction CYTBD at 0x7fd4e5fc6da0>,\n",
       " <Reaction D_LACt2 at 0x7fd4e5fc6dd0>,\n",
       " <Reaction ENO at 0x7fd4e5fc7a60>,\n",
       " <Reaction ETOHt2r at 0x7fd4e5f9fc10>,\n",
       " <Reaction FBA at 0x7fd4e5fefaf0>,\n",
       " <Reaction FBP at 0x7fd4e5fefc10>,\n",
       " <Reaction FORt2 at 0x7fd4e6044340>,\n",
       " <Reaction FORt at 0x7fd4e6044220>,\n",
       " <Reaction FRD7 at 0x7fd4e60449d0>,\n",
       " <Reaction FRUpts2 at 0x7fd4e6044df0>,\n",
       " <Reaction FUM at 0x7fd4e6045480>,\n",
       " <Reaction FUMt2_2 at 0x7fd4e6045ab0>,\n",
       " <Reaction G6PDH2r at 0x7fd4e6045ed0>,\n",
       " <Reaction GAPD at 0x7fd4e6045720>,\n",
       " <Reaction GLCpts at 0x7fd4e6046320>,\n",
       " <Reaction GLNS at 0x7fd4e60467d0>,\n",
       " <Reaction GLNabc at 0x7fd4e6047820>,\n",
       " <Reaction GLUDy at 0x7fd4e6047010>,\n",
       " <Reaction GLUN at 0x7fd4e6046bf0>,\n",
       " <Reaction GLUSy at 0x7fd4e6047670>,\n",
       " <Reaction GLUt2r at 0x7fd4e606cbb0>,\n",
       " <Reaction GND at 0x7fd4e606cdc0>,\n",
       " <Reaction H2Ot at 0x7fd4e606cb50>,\n",
       " <Reaction ICDHyr at 0x7fd4e606d5a0>,\n",
       " <Reaction ICL at 0x7fd4e606dab0>,\n",
       " <Reaction LDH_D at 0x7fd4e606dae0>,\n",
       " <Reaction MALS at 0x7fd4e606dea0>,\n",
       " <Reaction MALt2_2 at 0x7fd4e606e6e0>,\n",
       " <Reaction MDH at 0x7fd4e606ea40>,\n",
       " <Reaction ME1 at 0x7fd4e606ea70>,\n",
       " <Reaction ME2 at 0x7fd4e606f280>,\n",
       " <Reaction NADH16 at 0x7fd4e606f6a0>,\n",
       " <Reaction NADTRHD at 0x7fd4e606fac0>,\n",
       " <Reaction NH4t at 0x7fd4e60d7550>,\n",
       " <Reaction O2t at 0x7fd4e60d7b80>,\n",
       " <Reaction PDH at 0x7fd4e60d7190>,\n",
       " <Reaction PFK at 0x7fd4e5f6dab0>,\n",
       " <Reaction PFL at 0x7fd4e5f6d9c0>,\n",
       " <Reaction PGI at 0x7fd4e5f6e260>,\n",
       " <Reaction PGK at 0x7fd4e5f6f130>,\n",
       " <Reaction PGL at 0x7fd4e5f6e920>,\n",
       " <Reaction PGM at 0x7fd4e5f6fa90>,\n",
       " <Reaction PIt2r at 0x7fd4e5f6dd80>,\n",
       " <Reaction PPC at 0x7fd4e5f9ca30>,\n",
       " <Reaction PPCK at 0x7fd4e5f6e9b0>,\n",
       " <Reaction PPS at 0x7fd4e5f6fb50>,\n",
       " <Reaction PTAr at 0x7fd4e5f9fa30>,\n",
       " <Reaction PYK at 0x7fd4e5f9ffa0>,\n",
       " <Reaction PYRt2 at 0x7fd4e5f9ef50>,\n",
       " <Reaction RPE at 0x7fd4e5f9f850>,\n",
       " <Reaction RPI at 0x7fd4e5fc6590>,\n",
       " <Reaction SUCCt2_2 at 0x7fd4e5fc6230>,\n",
       " <Reaction SUCCt3 at 0x7fd4e5fc7ac0>,\n",
       " <Reaction SUCDi at 0x7fd4e5fc7790>,\n",
       " <Reaction SUCOAS at 0x7fd4e5fc6680>,\n",
       " <Reaction TALA at 0x7fd4e5fecca0>,\n",
       " <Reaction THD2 at 0x7fd4e5fecc70>,\n",
       " <Reaction TKT1 at 0x7fd4e5fed450>,\n",
       " <Reaction TKT2 at 0x7fd4e5fed8d0>,\n",
       " <Reaction TPI at 0x7fd4e5fede70>}"
      ]
     },
     "execution_count": 5,
     "metadata": {},
     "output_type": "execute_result"
    }
   ],
   "source": [
    "# metabolic reactions\n",
    "set(model.reactions) - set(model.boundary)"
   ]
  },
  {
   "cell_type": "code",
   "execution_count": 5,
   "metadata": {},
   "outputs": [
    {
     "name": "stdout",
     "output_type": "stream",
     "text": [
      "exchanges 20\n",
      "demands []\n",
      "sinks []\n"
     ]
    }
   ],
   "source": [
    "print(\"exchanges\", len(model.exchanges))\n",
    "print(\"demands\", model.demands)\n",
    "print(\"sinks\", model.sinks)"
   ]
  },
  {
   "cell_type": "code",
   "execution_count": 52,
   "metadata": {},
   "outputs": [
    {
     "data": {
      "text/html": [
       "\n",
       "        <table>\n",
       "            <tr>\n",
       "                <td><strong>Reaction identifier</strong></td><td>PFL</td>\n",
       "            </tr><tr>\n",
       "                <td><strong>Name</strong></td><td>Pyruvate formate lyase</td>\n",
       "            </tr><tr>\n",
       "                <td><strong>Memory address</strong></td>\n",
       "                <td>0x7f89699bc8b0</td>\n",
       "            </tr><tr>\n",
       "                <td><strong>Stoichiometry</strong></td>\n",
       "                <td>\n",
       "                    <p style='text-align:right'>coa_c + pyr_c --> accoa_c + for_c</p>\n",
       "                    <p style='text-align:right'>Coenzyme A + Pyruvate --> Acetyl-CoA + Formate</p>\n",
       "                </td>\n",
       "            </tr><tr>\n",
       "                <td><strong>GPR</strong></td><td>((b0902 and b0903) and b2579) or (b0902 and b0903) or (b0902 and b3114) or (b3951 and b3952)</td>\n",
       "            </tr><tr>\n",
       "                <td><strong>Lower bound</strong></td><td>0.0</td>\n",
       "            </tr><tr>\n",
       "                <td><strong>Upper bound</strong></td><td>1000.0</td>\n",
       "            </tr>\n",
       "        </table>\n",
       "        "
      ],
      "text/plain": [
       "<Reaction PFL at 0x7f89699bc8b0>"
      ]
     },
     "execution_count": 52,
     "metadata": {},
     "output_type": "execute_result"
    }
   ],
   "source": [
    "model.reactions[1]"
   ]
  },
  {
   "cell_type": "markdown",
   "metadata": {},
   "source": [
    "### 反应操作"
   ]
  },
  {
   "cell_type": "code",
   "execution_count": 53,
   "metadata": {},
   "outputs": [
    {
     "data": {
      "text/plain": [
       "False"
      ]
     },
     "execution_count": 53,
     "metadata": {},
     "output_type": "execute_result"
    }
   ],
   "source": [
    "model.reactions.PFL.reversibility"
   ]
  },
  {
   "cell_type": "code",
   "execution_count": 56,
   "metadata": {},
   "outputs": [
    {
     "data": {
      "text/plain": [
       "{}"
      ]
     },
     "execution_count": 56,
     "metadata": {},
     "output_type": "execute_result"
    }
   ],
   "source": [
    "model.reactions[0].check_mass_balance()"
   ]
  },
  {
   "cell_type": "code",
   "execution_count": 85,
   "metadata": {},
   "outputs": [
    {
     "name": "stdout",
     "output_type": "stream",
     "text": [
      "atp_c + f6p_c --> adp_c + fdp_c\n",
      "atp_c + f6p_c --> adp_c + fdp_c + h_c\n",
      "{}\n"
     ]
    }
   ],
   "source": [
    "model.reactions[0].add_metabolites({model.metabolites.get_by_id(\"h_c\"):-1})\n",
    "print(model.reactions[0].reaction)\n",
    "model.reactions[0].subtract_metabolites({model.metabolites.get_by_id(\"h_c\"):-1})\n",
    "print(model.reactions[0].reaction)\n",
    "print(model.reactions[0].check_mass_balance())"
   ]
  },
  {
   "cell_type": "code",
   "execution_count": 138,
   "metadata": {},
   "outputs": [
    {
     "name": "stdout",
     "output_type": "stream",
     "text": [
      "(0.0, 1000.0)\n",
      "(-10.0, 100.0)\n",
      "(0.0, 1000.0)\n"
     ]
    }
   ],
   "source": [
    "print(model.reactions[0].bounds)\n",
    "model.reactions[0].bounds = (-10.0, 100.0)\n",
    "print(model.reactions[0].bounds)\n",
    "model.reactions[0].bounds = (0.0, 1000.0)\n",
    "print(model.reactions[0].bounds)"
   ]
  },
  {
   "cell_type": "markdown",
   "metadata": {},
   "source": [
    "### 代谢物操作"
   ]
  },
  {
   "cell_type": "code",
   "execution_count": 87,
   "metadata": {},
   "outputs": [
    {
     "data": {
      "text/html": [
       "\n",
       "        <table>\n",
       "            <tr>\n",
       "                <td><strong>Metabolite identifier</strong></td><td>atp_c</td>\n",
       "            </tr><tr>\n",
       "                <td><strong>Name</strong></td><td>ATP C10H12N5O13P3</td>\n",
       "            </tr><tr>\n",
       "                <td><strong>Memory address</strong></td>\n",
       "                <td>0x7f89699a5a80</td>\n",
       "            </tr><tr>\n",
       "                <td><strong>Formula</strong></td><td>C10H12N5O13P3</td>\n",
       "            </tr><tr>\n",
       "                <td><strong>Compartment</strong></td><td>c</td>\n",
       "            </tr><tr>\n",
       "                <td><strong>In 13 reaction(s)</strong></td><td>\n",
       "                    GLNS, PPCK, PGK, BIOMASS_Ecoli_core_w_GAM, PYK, SUCOAS, GLNabc, ACKr, ADK1, PPS, ATPS4r, ATPM, PFK\n",
       "                    </td>\n",
       "            </tr>\n",
       "        </table>"
      ],
      "text/plain": [
       "<Metabolite atp_c at 0x7f89699a5a80>"
      ]
     },
     "execution_count": 87,
     "metadata": {},
     "output_type": "execute_result"
    }
   ],
   "source": [
    "atp = model.metabolites.get_by_id(\"atp_c\")\n",
    "atp"
   ]
  },
  {
   "cell_type": "code",
   "execution_count": 133,
   "metadata": {},
   "outputs": [
    {
     "name": "stdout",
     "output_type": "stream",
     "text": [
      "-4\n",
      "C10H12N5O13P3\n",
      "503.149263\n",
      "13\n",
      "GLNS\n",
      "PPCK\n",
      "PGK\n",
      "BIOMASS_Ecoli_core_w_GAM\n",
      "PYK\n",
      "SUCOAS\n",
      "GLNabc\n",
      "ACKr\n",
      "ADK1\n",
      "PPS\n",
      "ATPS4r\n",
      "ATPM\n",
      "PFK\n"
     ]
    }
   ],
   "source": [
    "print(atp.charge)\n",
    "print(atp.formula)\n",
    "print(atp.formula_weight)\n",
    "print(len(atp.reactions))\n",
    "for reaction in atp.reactions:\n",
    "    print(str(reaction).split(':')[0])"
   ]
  },
  {
   "cell_type": "markdown",
   "metadata": {},
   "source": [
    "### 基因操作"
   ]
  },
  {
   "cell_type": "code",
   "execution_count": 140,
   "metadata": {},
   "outputs": [
    {
     "name": "stdout",
     "output_type": "stream",
     "text": [
      "b3916 or b1723\n",
      "b3916 or b1723\n"
     ]
    }
   ],
   "source": [
    "gpr = model.reactions[0].gpr\n",
    "print(gpr)\n",
    "gpr_string = model.reactions[0].gene_reaction_rule\n",
    "print(gpr_string)"
   ]
  },
  {
   "cell_type": "code",
   "execution_count": 149,
   "metadata": {},
   "outputs": [
    {
     "name": "stdout",
     "output_type": "stream",
     "text": [
      "b1723\n"
     ]
    },
    {
     "data": {
      "text/plain": [
       "frozenset({<Reaction PFK at 0x7f89699a6fe0>})"
      ]
     },
     "execution_count": 149,
     "metadata": {},
     "output_type": "execute_result"
    }
   ],
   "source": [
    "idx = str(model.reactions[0].genes).split(' ')[1]\n",
    "gene = model.genes.get_by_id(idx)\n",
    "print(gene)\n",
    "gene.reactions"
   ]
  },
  {
   "cell_type": "code",
   "execution_count": 151,
   "metadata": {},
   "outputs": [
    {
     "name": "stdout",
     "output_type": "stream",
     "text": [
      "PFK blocked (bounds: (0, 0)), new growth rate 0.704037\n",
      "PFL blocked (bounds: (0, 0)), new growth rate 0.873922\n",
      "PGI blocked (bounds: (0, 0)), new growth rate 0.863160\n",
      "PGK blocked (bounds: (0, 0)), new growth rate 0.000000\n",
      "PGL blocked (bounds: (0, 0)), new growth rate 0.863813\n"
     ]
    },
    {
     "data": {
      "text/plain": [
       "[(0.0, 1000.0),\n",
       " (0.0, 1000.0),\n",
       " (-1000.0, 1000.0),\n",
       " (-1000.0, 1000.0),\n",
       " (0.0, 1000.0)]"
      ]
     },
     "execution_count": 151,
     "metadata": {},
     "output_type": "execute_result"
    }
   ],
   "source": [
    "for reaction in model.reactions[:5]:\n",
    "    with model as model:\n",
    "        reaction.knock_out()\n",
    "        model.optimize()\n",
    "        print('%s blocked (bounds: %s), new growth rate %f' %\n",
    "              (reaction.id, str(reaction.bounds), model.objective.value))\n",
    "\n",
    "[reaction.bounds for reaction in model.reactions[:5]]"
   ]
  },
  {
   "cell_type": "code",
   "execution_count": 154,
   "metadata": {},
   "outputs": [
    {
     "name": "stdout",
     "output_type": "stream",
     "text": [
      "print objective in first context: 1.0*ATPM - 1.0*ATPM_reverse_5b752\n",
      "print objective in second context: 1.0*ACALD - 1.0*ACALD_reverse_fda2b\n",
      "objective after exiting second context: 1.0*ATPM - 1.0*ATPM_reverse_5b752\n"
     ]
    },
    {
     "data": {
      "text/latex": [
       "$\\displaystyle 1.0 \\cdot BIOMASS_{Ecoli core w GAM} - 1.0 \\cdot BIOMASS_{Ecoli core w GAM reverse 712e5}$"
      ],
      "text/plain": [
       "1.0*BIOMASS_Ecoli_core_w_GAM - 1.0*BIOMASS_Ecoli_core_w_GAM_reverse_712e5"
      ]
     },
     "execution_count": 154,
     "metadata": {},
     "output_type": "execute_result"
    }
   ],
   "source": [
    "with model as model:\n",
    "    model.objective = 'ATPM'\n",
    "    print('print objective in first context:', model.objective.expression)\n",
    "    with model:\n",
    "        model.objective = 'ACALD'\n",
    "        print('print objective in second context:', model.objective.expression)\n",
    "    print('objective after exiting second context:',\n",
    "          model.objective.expression)\n",
    "\n",
    "model.objective.expression"
   ]
  },
  {
   "cell_type": "code",
   "execution_count": 171,
   "metadata": {},
   "outputs": [
    {
     "name": "stdout",
     "output_type": "stream",
     "text": [
      "(0, 0)\n",
      "(0.0, 1000.0)\n"
     ]
    },
    {
     "data": {
      "text/html": [
       "\n",
       "        <table>\n",
       "            <tr>\n",
       "                <td><strong>Reaction identifier</strong></td><td>PFK</td>\n",
       "            </tr><tr>\n",
       "                <td><strong>Name</strong></td><td>Phosphofructokinase</td>\n",
       "            </tr><tr>\n",
       "                <td><strong>Memory address</strong></td>\n",
       "                <td>0x7f89699a6fe0</td>\n",
       "            </tr><tr>\n",
       "                <td><strong>Stoichiometry</strong></td>\n",
       "                <td>\n",
       "                    <p style='text-align:right'>atp_c + f6p_c --> adp_c + fdp_c + h_c</p>\n",
       "                    <p style='text-align:right'>ATP C10H12N5O13P3 + D-Fructose 6-phosphate --> ADP C10H12N5O10P2 + D-Fructose 1,6-bisphosphate + H+</p>\n",
       "                </td>\n",
       "            </tr><tr>\n",
       "                <td><strong>GPR</strong></td><td>b3916 or b1723</td>\n",
       "            </tr><tr>\n",
       "                <td><strong>Lower bound</strong></td><td>0.0</td>\n",
       "            </tr><tr>\n",
       "                <td><strong>Upper bound</strong></td><td>1000.0</td>\n",
       "            </tr>\n",
       "        </table>\n",
       "        "
      ],
      "text/plain": [
       "<Reaction PFK at 0x7f89699a6fe0>"
      ]
     },
     "execution_count": 171,
     "metadata": {},
     "output_type": "execute_result"
    }
   ],
   "source": [
    "with model as inner:\n",
    "    cobra.manipulation.knock_out_model_genes(inner, [\"b3916\"])\n",
    "    cobra.manipulation.knock_out_model_genes(inner, [\"b1723\"])\n",
    "    print(model.reactions[0].bounds)\n",
    "print(model.reactions[0].bounds)\n",
    "model.reactions[0]"
   ]
  },
  {
   "cell_type": "markdown",
   "metadata": {},
   "source": [
    "### 全局配置"
   ]
  },
  {
   "cell_type": "code",
   "execution_count": 189,
   "metadata": {},
   "outputs": [],
   "source": [
    "cobra_config = cobra.Configuration()\n",
    "cobra_config.bounds = 10.0, 30.0\n",
    "cobra_config.solver = \"glpk_exact\""
   ]
  },
  {
   "cell_type": "code",
   "execution_count": 190,
   "metadata": {},
   "outputs": [],
   "source": [
    "model1 = load_model('textbook')"
   ]
  },
  {
   "cell_type": "code",
   "execution_count": 192,
   "metadata": {},
   "outputs": [
    {
     "data": {
      "text/html": [
       "\n",
       "        <table>\n",
       "            <tr>\n",
       "                <td><strong>Reaction identifier</strong></td><td>R1</td>\n",
       "            </tr><tr>\n",
       "                <td><strong>Name</strong></td><td></td>\n",
       "            </tr><tr>\n",
       "                <td><strong>Memory address</strong></td>\n",
       "                <td>0x7f8969423370</td>\n",
       "            </tr><tr>\n",
       "                <td><strong>Stoichiometry</strong></td>\n",
       "                <td>\n",
       "                    <p style='text-align:right'>--></p>\n",
       "                    <p style='text-align:right'>--></p>\n",
       "                </td>\n",
       "            </tr><tr>\n",
       "                <td><strong>GPR</strong></td><td></td>\n",
       "            </tr><tr>\n",
       "                <td><strong>Lower bound</strong></td><td>10.0</td>\n",
       "            </tr><tr>\n",
       "                <td><strong>Upper bound</strong></td><td>30.0</td>\n",
       "            </tr>\n",
       "        </table>\n",
       "        "
      ],
      "text/plain": [
       "<Reaction R1 at 0x7f8969423370>"
      ]
     },
     "execution_count": 192,
     "metadata": {},
     "output_type": "execute_result"
    }
   ],
   "source": [
    "model1.solver\n",
    "cobra.Reaction(\"R1\", lower_bound=None)"
   ]
  }
 ],
 "metadata": {
  "kernelspec": {
   "display_name": "torch",
   "language": "python",
   "name": "python3"
  },
  "language_info": {
   "codemirror_mode": {
    "name": "ipython",
    "version": 3
   },
   "file_extension": ".py",
   "mimetype": "text/x-python",
   "name": "python",
   "nbconvert_exporter": "python",
   "pygments_lexer": "ipython3",
   "version": "3.10.14"
  }
 },
 "nbformat": 4,
 "nbformat_minor": 2
}
