{
 "cells": [
  {
   "cell_type": "markdown",
   "metadata": {},
   "source": [
    "[重要文献](https://cjb.ijournals.cn/html/cjbcn/2021/5/gc21051526.htm#zz)  \n",
    "[可视化教程](https://escher.readthedocs.io/en/latest/escher-python.html)  \n",
    "[GSMM模型搭建教程](https://cobrapy.readthedocs.io/en/latest/)"
   ]
  },
  {
   "cell_type": "code",
   "execution_count": 1,
   "metadata": {},
   "outputs": [],
   "source": [
    "# 导入必要的库\n",
    "import cobra\n",
    "from cobra import Model, Reaction, Metabolite\n",
    "from cobra.io import read_sbml_model, write_sbml_model\n",
    "import pandas as pd\n",
    "import matplotlib.pyplot as plt\n",
    "from pubchempy import get_compounds\n",
    "from rdkit import Chem\n",
    "from Bio.Seq import Seq\n",
    "from escher import Builder"
   ]
  },
  {
   "cell_type": "code",
   "execution_count": 2,
   "metadata": {},
   "outputs": [
    {
     "name": "stdout",
     "output_type": "stream",
     "text": [
      "Model: iJO1366\n",
      "Number of reactions: 2583\n",
      "Number of metabolites: 1805\n",
      "Number of genes: 1367\n"
     ]
    }
   ],
   "source": [
    "# 加载iJO1366模型\n",
    "model = read_sbml_model('iJO1366.xml')\n",
    "\n",
    "print(f\"Model: {model.id}\")\n",
    "print(f\"Number of reactions: {len(model.reactions)}\")\n",
    "print(f\"Number of metabolites: {len(model.metabolites)}\")\n",
    "print(f\"Number of genes: {len(model.genes)}\")"
   ]
  },
  {
   "cell_type": "code",
   "execution_count": null,
   "metadata": {},
   "outputs": [],
   "source": [
    "# 设置目标函数为生物量生成（通常反应ID为 'BIOMASS_Ec_iJO1366_core_53p95M'）\n",
    "model.objective = \"BIOMASS_Ec_iJO1366_core_53p95M\"\n",
    "\n",
    "# 运行通量平衡分析（FBA）\n",
    "solution = model.optimize()\n",
    "print(f\"默认培养基下的生长速率: {solution.objective_value}\")"
   ]
  },
  {
   "cell_type": "code",
   "execution_count": null,
   "metadata": {},
   "outputs": [],
   "source": [
    "# 查看当前培养基成分（哪些物质允许摄入）\n",
    "print(\"默认培养基成分:\", model.medium)\n",
    "\n",
    "# 关闭葡萄糖，开启琥珀酸作为碳源\n",
    "medium = model.medium\n",
    "medium[\"EX_glc__D_e\"] = 0.0    # 关闭葡萄糖摄入\n",
    "medium[\"EX_succ_e\"] = 10.0     # 开启琥珀酸摄入（设置最大摄入速率为10 mmol/gDW/h）\n",
    "model.medium = medium\n",
    "\n",
    "# 重新模拟生长\n",
    "solution = model.optimize()\n",
    "print(f\"琥珀酸培养基下的生长速率: {solution.objective_value}\")"
   ]
  },
  {
   "cell_type": "code",
   "execution_count": null,
   "metadata": {},
   "outputs": [],
   "source": [
    "import pandas as pd\n",
    "import numpy as np\n",
    "\n",
    "# 加载数据并筛选高表达基因（假设前20%为高表达）\n",
    "df = pd.read_csv('GSE288896_Count_table_Ec_PFAS.csv')\n",
    "threshold = df.iloc[:, 1].quantile(0.8)\n",
    "high_exp_genes = df[df.iloc[:, 1] >= threshold].index.tolist()\n",
    "print(f\"高表达基因数量: {len(high_exp_genes)}\")"
   ]
  },
  {
   "cell_type": "code",
   "execution_count": null,
   "metadata": {},
   "outputs": [],
   "source": [
    "df"
   ]
  },
  {
   "cell_type": "code",
   "execution_count": null,
   "metadata": {},
   "outputs": [],
   "source": [
    "# 遍历所有反应，调整其通量范围\n",
    "for reaction in model.reactions:\n",
    "    # 检查反应是否关联高表达基因\n",
    "    has_high_exp_gene = any(gene.id in high_exp_genes for gene in reaction.genes)\n",
    "    \n",
    "    # 若关联高表达基因，允许正向通量；否则限制活性\n",
    "    if has_high_exp_gene:\n",
    "        reaction.lower_bound = 0  # 允许正向通量（假设高表达基因促进反应）\n",
    "    else:\n",
    "        # 对非高表达基因关联的反应施加限制（例如限制为原范围的10%）\n",
    "        if reaction.lower_bound < 0:\n",
    "            reaction.lower_bound *= 0.1  # 反向通量限制\n",
    "        reaction.upper_bound *= 0.1       # 正向通量限制\n",
    "\n",
    "# 重新模拟生长\n",
    "solution = model.optimize()\n",
    "print(f\"整合转录组后的生长速率: {solution.objective_value}\")"
   ]
  },
  {
   "cell_type": "code",
   "execution_count": null,
   "metadata": {},
   "outputs": [],
   "source": [
    "# 查看关键反应的模拟通量\n",
    "key_reactions = [\"EX_succ_e\", \"BIOMASS_Ec_iJO1366_core_53p95M\", \"ATPM\"]\n",
    "for rxn_id in key_reactions:\n",
    "    flux = solution.fluxes[rxn_id]\n",
    "    print(f\"{rxn_id} 通量: {flux:.2f}\")"
   ]
  },
  {
   "cell_type": "code",
   "execution_count": null,
   "metadata": {},
   "outputs": [],
   "source": [
    "# 定义要敲除的基因列表（例如与琥珀酸代谢相关的基因）\n",
    "target_genes = [\"b0902\", \"b0903\"]  # 示例基因ID（实际需根据模型确定）\n",
    "\n",
    "# 敲除基因并模拟生长\n",
    "with model:\n",
    "    for gene_id in target_genes:\n",
    "        gene = model.genes.get_by_id(gene_id)\n",
    "        gene.knock_out()  # 关闭该基因关联的所有反应\n",
    "    ko_solution = model.optimize()\n",
    "    print(f\"敲除{target_genes}后的生长速率: {ko_solution.objective_value}\")"
   ]
  },
  {
   "cell_type": "code",
   "execution_count": null,
   "metadata": {},
   "outputs": [],
   "source": [
    "# metabolome = pd.read_csv(\"metabolome.csv\", index_col=\"metabolite_id\")\n",
    "\n",
    "# 假设检测到乙酸盐分泌，约束其交换反应\n",
    "# if \"ac_e\" in metabolome.index:\n",
    "model.reactions.EX_ac_e.lower_bound = 0.5  # 设置最小分泌速率为0.5 mmol/gDW/h"
   ]
  },
  {
   "cell_type": "code",
   "execution_count": 73,
   "metadata": {},
   "outputs": [],
   "source": [
    "# 直接约束特定代谢物的通量（例如ATP消耗）\n",
    "model.reactions.ATPM.lower_bound = 1.0  # ATP维持通量至少为1.0 mmol/gDW/h"
   ]
  },
  {
   "cell_type": "code",
   "execution_count": 109,
   "metadata": {},
   "outputs": [],
   "source": [
    "def add_dynamic_bounds(model, y):\n",
    "    \"\"\"Use external concentrations to bound the uptake flux of glucose.\"\"\"\n",
    "    biomass, glucose = y  # expand the boundary species\n",
    "    glucose_max_import = -10 * glucose / (5 + glucose)\n",
    "    model.reactions.EX_glc__D_e.lower_bound = glucose_max_import\n",
    "\n",
    "\n",
    "def dynamic_system(t, y):\n",
    "    \"\"\"Calculate the time derivative of external species.\"\"\"\n",
    "\n",
    "    biomass, glucose = y  # expand the boundary species\n",
    "\n",
    "    # Calculate the specific exchanges fluxes at the given external concentrations.\n",
    "    with model:\n",
    "        add_dynamic_bounds(model, y)\n",
    "\n",
    "        cobra.util.add_lp_feasibility(model)\n",
    "        feasibility = cobra.util.fix_objective_as_constraint(model)\n",
    "        lex_constraints = cobra.util.add_lexicographic_constraints(\n",
    "            model, ['EX_succ_e', 'EX_glc__D_e'], ['max', 'max'])\n",
    "\n",
    "    # Since the calculated fluxes are specific rates, we multiply them by the\n",
    "    # biomass concentration to get the bulk exchange rates.\n",
    "    fluxes = lex_constraints.values\n",
    "    fluxes *= biomass\n",
    "\n",
    "    # This implementation is **not** efficient, so I display the current\n",
    "    # simulation time using a progress bar.\n",
    "    if dynamic_system.pbar is not None:\n",
    "        dynamic_system.pbar.update(1)\n",
    "        dynamic_system.pbar.set_description('t = {:.3f}'.format(t))\n",
    "\n",
    "    return fluxes\n",
    "\n",
    "dynamic_system.pbar = None\n",
    "\n",
    "\n",
    "def infeasible_event(t, y):\n",
    "    \"\"\"\n",
    "    Determine solution feasibility.\n",
    "\n",
    "    Avoiding infeasible solutions is handled by solve_ivp's built-in event detection.\n",
    "    This function re-solves the LP to determine whether or not the solution is feasible\n",
    "    (and if not, how far it is from feasibility). When the sign of this function changes\n",
    "    from -epsilon to positive, we know the solution is no longer feasible.\n",
    "\n",
    "    \"\"\"\n",
    "\n",
    "    with model:\n",
    "\n",
    "        add_dynamic_bounds(model, y)\n",
    "\n",
    "        cobra.util.add_lp_feasibility(model)\n",
    "        feasibility = cobra.util.fix_objective_as_constraint(model)\n",
    "\n",
    "    return feasibility - infeasible_event.epsilon\n",
    "\n",
    "infeasible_event.epsilon = 1E-6\n",
    "infeasible_event.direction = 1\n",
    "infeasible_event.terminal = True"
   ]
  },
  {
   "cell_type": "code",
   "execution_count": null,
   "metadata": {},
   "outputs": [],
   "source": [
    "for i,reaction in enumerate(model.reactions):\n",
    "    idx = reaction.id\n",
    "    if idx == 'EX_glc__D_e' :\n",
    "        print(i)"
   ]
  },
  {
   "cell_type": "code",
   "execution_count": null,
   "metadata": {},
   "outputs": [],
   "source": [
    "ts = np.linspace(0, 15, 2)  # Desired integration resolution and interval\n",
    "y0 = [0.1, 0.2]\n",
    "\n",
    "with tqdm() as pbar:\n",
    "    dynamic_system.pbar = pbar\n",
    "\n",
    "    sol = solve_ivp(\n",
    "        fun=dynamic_system,\n",
    "        events=[infeasible_event],\n",
    "        t_span=(ts.min(), ts.max()),\n",
    "        y0=y0,\n",
    "        t_eval=ts,\n",
    "        rtol=1e-6,\n",
    "        atol=1e-8,\n",
    "        method='BDF'\n",
    "    )"
   ]
  },
  {
   "cell_type": "code",
   "execution_count": null,
   "metadata": {},
   "outputs": [],
   "source": [
    "sol"
   ]
  },
  {
   "cell_type": "code",
   "execution_count": null,
   "metadata": {},
   "outputs": [],
   "source": [
    "ax = plt.subplot(111)\n",
    "ax.plot(sol.t, sol.y.T[:, 0])\n",
    "ax2 = plt.twinx(ax)\n",
    "ax2.plot(sol.t, sol.y.T[:, 1], color='r')\n",
    "\n",
    "ax.set_ylabel('Biomass', color='b')\n",
    "ax2.set_ylabel('Glucose', color='r')"
   ]
  },
  {
   "cell_type": "code",
   "execution_count": null,
   "metadata": {},
   "outputs": [],
   "source": [
    "# 通量变异性分析（FVA）\n",
    "from cobra.flux_analysis import flux_variability_analysis\n",
    "fva_result = flux_variability_analysis(model, reaction_list=[\"EX_succ_e\", \"ATPM\"])\n",
    "print(fva_result)"
   ]
  }
 ],
 "metadata": {
  "kernelspec": {
   "display_name": "torch",
   "language": "python",
   "name": "python3"
  },
  "language_info": {
   "codemirror_mode": {
    "name": "ipython",
    "version": 3
   },
   "file_extension": ".py",
   "mimetype": "text/x-python",
   "name": "python",
   "nbconvert_exporter": "python",
   "pygments_lexer": "ipython3",
   "version": "3.10.14"
  }
 },
 "nbformat": 4,
 "nbformat_minor": 2
}
